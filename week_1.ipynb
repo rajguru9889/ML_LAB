{
  "nbformat": 4,
  "nbformat_minor": 0,
  "metadata": {
    "colab": {
      "provenance": [],
      "include_colab_link": true
    },
    "kernelspec": {
      "name": "python3",
      "display_name": "Python 3"
    },
    "language_info": {
      "name": "python"
    }
  },
  "cells": [
    {
      "cell_type": "markdown",
      "metadata": {
        "id": "view-in-github",
        "colab_type": "text"
      },
      "source": [
        "<a href=\"https://colab.research.google.com/github/rajguru9889/ML_LAB/blob/main/week_1.ipynb\" target=\"_parent\"><img src=\"https://colab.research.google.com/assets/colab-badge.svg\" alt=\"Open In Colab\"/></a>"
      ]
    },
    {
      "cell_type": "markdown",
      "source": [
        "# Exercise 1"
      ],
      "metadata": {
        "id": "f-SY1xO0AHBt"
      }
    },
    {
      "cell_type": "code",
      "execution_count": null,
      "metadata": {
        "colab": {
          "base_uri": "https://localhost:8080/"
        },
        "id": "y6p0Ta1sykMG",
        "outputId": "e1fdd087-d021-4d69-f8f5-88202b56365a"
      },
      "outputs": [
        {
          "output_type": "stream",
          "name": "stdout",
          "text": [
            "            2014   2015    2016   2017\n",
            "Madhu      100.5  12000   20000  50000\n",
            "Kusum      150.8  18000   50000  60000\n",
            "Kinshuk    200.9  22000   70000  70000\n",
            "Ankit    30000.0  30000  100000  80000\n",
            "Shruti   40000.0  45000  125000  90000\n"
          ]
        }
      ],
      "source": [
        "import pandas as pd\n",
        "\n",
        "data = {\n",
        "    2014: [100.5, 150.8, 200.9, 30000, 40000],\n",
        "    2015: [12000, 18000, 22000, 30000, 45000],\n",
        "    2016: [20000, 50000, 70000, 100000, 125000],\n",
        "    2017: [50000, 60000, 70000, 80000, 90000]\n",
        "}\n",
        "\n",
        "salespersons = ['Madhu', 'Kusum', 'Kinshuk', 'Ankit', 'Shruti']\n",
        "\n",
        "sales = pd.DataFrame(data, index=salespersons)\n",
        "print(sales)\n",
        "\n"
      ]
    },
    {
      "cell_type": "code",
      "source": [
        "print(\"Row labels\")\n",
        "print(sales.index)\n",
        "\n",
        "print(\"\\nColumn labels\")\n",
        "print(sales.columns)\n",
        "\n",
        "print(\"\\nData types of each column\")\n",
        "print(sales.dtypes)\n",
        "\n",
        "print(\"\\nDimensions, shape, size, and values\")\n",
        "print(\"Dimensions:\", sales.ndim)\n",
        "print(\"Shape:\", sales.shape)\n",
        "print(\"Size:\", sales.size)\n",
        "print(\"Values:\\n\", sales.values)\n",
        "\n",
        "print(\"\\nLast two rows\")\n",
        "print(sales.tail(2))\n",
        "\n",
        "print(\"\\nFirst two columns\")\n",
        "print(sales.iloc[:, :2])\n",
        "\n",
        "print(\"\\nCreate Sales2 DataFrame\")\n",
        "data2 = {\n",
        "    '2018': [160000, 110000, 500000, 340000, 900000]\n",
        "}\n",
        "sales2 = pd.DataFrame(data2, index=salespersons)\n",
        "print(sales2)\n",
        "\n",
        "print(\"\\nCheck if Sales2 is empty\")\n",
        "print(sales2.empty)\n",
        "\n"
      ],
      "metadata": {
        "colab": {
          "base_uri": "https://localhost:8080/"
        },
        "id": "cLf0N8D0TlM6",
        "outputId": "ef90c2af-5398-44b5-84ea-1768ee24aa13"
      },
      "execution_count": null,
      "outputs": [
        {
          "output_type": "stream",
          "name": "stdout",
          "text": [
            "Row labels\n",
            "Index(['Madhu', 'Kusum', 'Kinshuk', 'Ankit', 'Shruti'], dtype='object')\n",
            "\n",
            "Column labels\n",
            "Index([2014, 2015, 2016, 2017], dtype='int64')\n",
            "\n",
            "Data types of each column\n",
            "2014    float64\n",
            "2015      int64\n",
            "2016      int64\n",
            "2017      int64\n",
            "dtype: object\n",
            "\n",
            "Dimensions, shape, size, and values\n",
            "Dimensions: 2\n",
            "Shape: (5, 4)\n",
            "Size: 20\n",
            "Values:\n",
            " [[1.005e+02 1.200e+04 2.000e+04 5.000e+04]\n",
            " [1.508e+02 1.800e+04 5.000e+04 6.000e+04]\n",
            " [2.009e+02 2.200e+04 7.000e+04 7.000e+04]\n",
            " [3.000e+04 3.000e+04 1.000e+05 8.000e+04]\n",
            " [4.000e+04 4.500e+04 1.250e+05 9.000e+04]]\n",
            "\n",
            "Last two rows\n",
            "           2014   2015    2016   2017\n",
            "Ankit   30000.0  30000  100000  80000\n",
            "Shruti  40000.0  45000  125000  90000\n",
            "\n",
            "First two columns\n",
            "            2014   2015\n",
            "Madhu      100.5  12000\n",
            "Kusum      150.8  18000\n",
            "Kinshuk    200.9  22000\n",
            "Ankit    30000.0  30000\n",
            "Shruti   40000.0  45000\n",
            "\n",
            "Create Sales2 DataFrame\n",
            "           2018\n",
            "Madhu    160000\n",
            "Kusum    110000\n",
            "Kinshuk  500000\n",
            "Ankit    340000\n",
            "Shruti   900000\n",
            "\n",
            "Check if Sales2 is empty\n",
            "False\n"
          ]
        }
      ]
    },
    {
      "cell_type": "code",
      "source": [
        "import pandas as pd\n",
        "\n",
        "# Initial Sales DataFrame\n",
        "data = {\n",
        "    2014: [100.5, 150.8, 200.9, 30000, 40000],\n",
        "    2015: [12000, 18000, 22000, 30000, 45000],\n",
        "    2016: [20000, 50000, 70000, 100000, 125000],\n",
        "    2017: [50000, 60000, 70000, 80000, 90000]\n",
        "}\n",
        "salespersons = ['Madhu', 'Kusum', 'Kinshuk', 'Ankit', 'Shruti']\n",
        "Sales = pd.DataFrame(data, index=salespersons)\n",
        "\n",
        "# Sales2 DataFrame for 2018\n",
        "sales_2018 = {\n",
        "    '2018': [160000, 110000, 500000, 340000, 900000]\n",
        "}\n",
        "Sales2 = pd.DataFrame(sales_2018, index=salespersons)\n"
      ],
      "metadata": {
        "id": "7cIJ8QjRZW5Z"
      },
      "execution_count": null,
      "outputs": []
    },
    {
      "cell_type": "code",
      "source": [
        "Sales[2018] = Sales2['2018']\n",
        "print(Sales)\n"
      ],
      "metadata": {
        "colab": {
          "base_uri": "https://localhost:8080/"
        },
        "id": "i-AYOIjRZ5Ht",
        "outputId": "52d4a071-4a81-46a4-f5d3-57f1ba06d70f"
      },
      "execution_count": null,
      "outputs": [
        {
          "output_type": "stream",
          "name": "stdout",
          "text": [
            "            2014   2015    2016   2017    2018\n",
            "Madhu      100.5  12000   20000  50000  160000\n",
            "Kusum      150.8  18000   50000  60000  110000\n",
            "Kinshuk    200.9  22000   70000  70000  500000\n",
            "Ankit    30000.0  30000  100000  80000  340000\n",
            "Shruti   40000.0  45000  125000  90000  900000\n"
          ]
        }
      ]
    },
    {
      "cell_type": "code",
      "source": [
        "Sales_T = Sales.transpose()\n",
        "print(Sales_T)"
      ],
      "metadata": {
        "colab": {
          "base_uri": "https://localhost:8080/"
        },
        "id": "Y2BTIa11Z_bn",
        "outputId": "6caaf6e5-b633-4c0a-ac85-c47135d42eba"
      },
      "execution_count": null,
      "outputs": [
        {
          "output_type": "stream",
          "name": "stdout",
          "text": [
            "         Madhu     Kusum   Kinshuk     Ankit    Shruti\n",
            "2014     100.5     150.8     200.9   30000.0   40000.0\n",
            "2015   12000.0   18000.0   22000.0   30000.0   45000.0\n",
            "2016   20000.0   50000.0   70000.0  100000.0  125000.0\n",
            "2017   50000.0   60000.0   70000.0   80000.0   90000.0\n",
            "2018  160000.0  110000.0  500000.0  340000.0  900000.0\n"
          ]
        }
      ]
    },
    {
      "cell_type": "code",
      "source": [
        "print(Sales[2017])"
      ],
      "metadata": {
        "colab": {
          "base_uri": "https://localhost:8080/"
        },
        "id": "FfUv9_EraCy6",
        "outputId": "4e58bcc6-70a4-404a-ba31-28115ec6d808"
      },
      "execution_count": null,
      "outputs": [
        {
          "output_type": "stream",
          "name": "stdout",
          "text": [
            "Madhu      50000\n",
            "Kusum      60000\n",
            "Kinshuk    70000\n",
            "Ankit      80000\n",
            "Shruti     90000\n",
            "Name: 2017, dtype: int64\n"
          ]
        }
      ]
    },
    {
      "cell_type": "code",
      "source": [
        "print(Sales.loc[['Madhu', 'Ankit'], [2017, 2018]])\n"
      ],
      "metadata": {
        "colab": {
          "base_uri": "https://localhost:8080/"
        },
        "id": "YWFrkWOfaHZb",
        "outputId": "ec5ddc4b-79b4-4040-f5da-0c983d3876ef"
      },
      "execution_count": null,
      "outputs": [
        {
          "output_type": "stream",
          "name": "stdout",
          "text": [
            "        2017    2018\n",
            "Madhu  50000  160000\n",
            "Ankit  80000  340000\n"
          ]
        }
      ]
    },
    {
      "cell_type": "code",
      "source": [
        "print(Sales.loc[['Shruti'], [2016]])\n"
      ],
      "metadata": {
        "colab": {
          "base_uri": "https://localhost:8080/"
        },
        "id": "cE6tmIHfaIcU",
        "outputId": "773fdbef-7f66-4dc2-b2a4-60b326e0ed86"
      },
      "execution_count": null,
      "outputs": [
        {
          "output_type": "stream",
          "name": "stdout",
          "text": [
            "          2016\n",
            "Shruti  125000\n"
          ]
        }
      ]
    },
    {
      "cell_type": "code",
      "source": [
        "# Sales.drop(index='Sumeet', inplace=True) # This line caused the error\n",
        "Sales.loc['Sumeet'] = [196.2, 37800, 52000, 78438, 38852]\n",
        "print(Sales)"
      ],
      "metadata": {
        "colab": {
          "base_uri": "https://localhost:8080/"
        },
        "id": "znyurY8caLSF",
        "outputId": "9c3fbac5-7e9a-4b75-f7b8-c98d756338b3"
      },
      "execution_count": null,
      "outputs": [
        {
          "output_type": "stream",
          "name": "stdout",
          "text": [
            "            2014     2015      2016     2017      2018\n",
            "Madhu      100.5  12000.0   20000.0  50000.0  160000.0\n",
            "Kusum      150.8  18000.0   50000.0  60000.0  110000.0\n",
            "Kinshuk    200.9  22000.0   70000.0  70000.0  500000.0\n",
            "Ankit    30000.0  30000.0  100000.0  80000.0  340000.0\n",
            "Shruti   40000.0  45000.0  125000.0  90000.0  900000.0\n",
            "Sumeet     196.2  37800.0   52000.0  78438.0   38852.0\n"
          ]
        }
      ]
    },
    {
      "cell_type": "code",
      "source": [
        "Sales.drop(columns=[2014], inplace=True)\n",
        "print(Sales)"
      ],
      "metadata": {
        "colab": {
          "base_uri": "https://localhost:8080/"
        },
        "id": "waiTG1wSaTap",
        "outputId": "0bca8adc-1195-48d4-a841-5bce3af0eccc"
      },
      "execution_count": null,
      "outputs": [
        {
          "output_type": "stream",
          "name": "stdout",
          "text": [
            "            2015      2016     2017      2018\n",
            "Madhu    12000.0   20000.0  50000.0  160000.0\n",
            "Kusum    18000.0   50000.0  60000.0  110000.0\n",
            "Kinshuk  22000.0   70000.0  70000.0  500000.0\n",
            "Ankit    30000.0  100000.0  80000.0  340000.0\n",
            "Shruti   45000.0  125000.0  90000.0  900000.0\n",
            "Sumeet   37800.0   52000.0  78438.0   38852.0\n"
          ]
        }
      ]
    },
    {
      "cell_type": "code",
      "source": [
        "Sales.drop(index='Kinshuk', inplace=True)\n",
        "print(Sales)\n"
      ],
      "metadata": {
        "colab": {
          "base_uri": "https://localhost:8080/"
        },
        "id": "ahe6Rp5haZiN",
        "outputId": "731e4979-9886-4ce9-abd5-5330d415f70e"
      },
      "execution_count": null,
      "outputs": [
        {
          "output_type": "stream",
          "name": "stdout",
          "text": [
            "           2015      2016     2017      2018\n",
            "Madhu   12000.0   20000.0  50000.0  160000.0\n",
            "Kusum   18000.0   50000.0  60000.0  110000.0\n",
            "Ankit   30000.0  100000.0  80000.0  340000.0\n",
            "Shruti  45000.0  125000.0  90000.0  900000.0\n",
            "Sumeet  37800.0   52000.0  78438.0   38852.0\n"
          ]
        }
      ]
    },
    {
      "cell_type": "code",
      "source": [
        "Sales.rename(index={'Ankit': 'Vivaan', 'Madhu': 'Shailesh'}, inplace=True)\n",
        "print(Sales)\n"
      ],
      "metadata": {
        "colab": {
          "base_uri": "https://localhost:8080/"
        },
        "id": "cg81yOimacw0",
        "outputId": "cb427f30-a96c-4eec-d169-e20d485e2081"
      },
      "execution_count": null,
      "outputs": [
        {
          "output_type": "stream",
          "name": "stdout",
          "text": [
            "             2015      2016     2017      2018\n",
            "Shailesh  12000.0   20000.0  50000.0  160000.0\n",
            "Kusum     18000.0   50000.0  60000.0  110000.0\n",
            "Vivaan    30000.0  100000.0  80000.0  340000.0\n",
            "Shruti    45000.0  125000.0  90000.0  900000.0\n",
            "Sumeet    37800.0   52000.0  78438.0   38852.0\n"
          ]
        }
      ]
    },
    {
      "cell_type": "code",
      "source": [
        "Sales.at['Shailesh', 2018] = 100000\n",
        "print(Sales)\n"
      ],
      "metadata": {
        "colab": {
          "base_uri": "https://localhost:8080/"
        },
        "id": "Ltej6S8Wad7_",
        "outputId": "56f66c0a-8ebe-4c7c-ca0c-2e5611e2c414"
      },
      "execution_count": null,
      "outputs": [
        {
          "output_type": "stream",
          "name": "stdout",
          "text": [
            "             2015      2016     2017      2018\n",
            "Shailesh  12000.0   20000.0  50000.0  100000.0\n",
            "Kusum     18000.0   50000.0  60000.0  110000.0\n",
            "Vivaan    30000.0  100000.0  80000.0  340000.0\n",
            "Shruti    45000.0  125000.0  90000.0  900000.0\n",
            "Sumeet    37800.0   52000.0  78438.0   38852.0\n"
          ]
        }
      ]
    },
    {
      "cell_type": "code",
      "source": [
        "Sales.to_csv(\"SalesFigures.csv\", index=False, header=False)\n"
      ],
      "metadata": {
        "id": "k3x43rLaan-F"
      },
      "execution_count": null,
      "outputs": []
    },
    {
      "cell_type": "code",
      "source": [
        "SalesRetrieved = pd.read_csv(\"SalesFigures.csv\", header=None)\n",
        "SalesRetrieved.index = Sales.index\n",
        "SalesRetrieved.columns = Sales.columns\n",
        "print(SalesRetrieved)\n"
      ],
      "metadata": {
        "colab": {
          "base_uri": "https://localhost:8080/"
        },
        "id": "L5_82xO6arG4",
        "outputId": "b104513d-3ecc-423a-ae71-3e3a7577913b"
      },
      "execution_count": null,
      "outputs": [
        {
          "output_type": "stream",
          "name": "stdout",
          "text": [
            "             2015      2016     2017      2018\n",
            "Shailesh  12000.0   20000.0  50000.0  100000.0\n",
            "Kusum     18000.0   50000.0  60000.0  110000.0\n",
            "Vivaan    30000.0  100000.0  80000.0  340000.0\n",
            "Shruti    45000.0  125000.0  90000.0  900000.0\n",
            "Sumeet    37800.0   52000.0  78438.0   38852.0\n"
          ]
        }
      ]
    },
    {
      "cell_type": "markdown",
      "source": [
        "# Exercise2\n",
        "13th **Question**"
      ],
      "metadata": {
        "id": "J8j2HNG-_pTS"
      }
    },
    {
      "cell_type": "code",
      "source": [
        "import pandas as pd\n",
        "\n",
        "data = {\n",
        "    'Item': ['TV', 'TV', 'TV', 'AC'],\n",
        "    'Company': ['LG', 'VIDEOCON', 'LG', 'SONY'],\n",
        "    'Rupees': [12000, 10000, 15000, 14000],\n",
        "    'USD': [700, 650, 800, 750]\n",
        "}\n",
        "\n",
        "product_df = pd.DataFrame(data)\n",
        "print(product_df)\n"
      ],
      "metadata": {
        "colab": {
          "base_uri": "https://localhost:8080/"
        },
        "id": "oqsVVy6H59hD",
        "outputId": "3258eba1-e418-44ad-93f9-c333b65d7e3d"
      },
      "execution_count": null,
      "outputs": [
        {
          "output_type": "stream",
          "name": "stdout",
          "text": [
            "  Item   Company  Rupees  USD\n",
            "0   TV        LG   12000  700\n",
            "1   TV  VIDEOCON   10000  650\n",
            "2   TV        LG   15000  800\n",
            "3   AC      SONY   14000  750\n"
          ]
        }
      ]
    },
    {
      "cell_type": "code",
      "source": [
        "new_data = pd.DataFrame({\n",
        "    'Item': ['AC'],\n",
        "    'Company': ['LG'],\n",
        "    'Rupees': [16000],\n",
        "    'USD': [850]\n",
        "})\n",
        "\n",
        "product_df = pd.concat([product_df, new_data], ignore_index=True)\n"
      ],
      "metadata": {
        "id": "Mcv_pybY6f_8"
      },
      "execution_count": null,
      "outputs": []
    },
    {
      "cell_type": "code",
      "source": [
        "max_price = product_df[(product_df['Item'] == 'TV') & (product_df['Company'] == 'LG')]['Rupees'].max()\n",
        "print(\"Maximum LG TV Price:\", max_price)\n"
      ],
      "metadata": {
        "colab": {
          "base_uri": "https://localhost:8080/"
        },
        "id": "53EHDO4i6kzz",
        "outputId": "691c2335-3a80-4701-d22b-adeddc96fd5b"
      },
      "execution_count": null,
      "outputs": [
        {
          "output_type": "stream",
          "name": "stdout",
          "text": [
            "Maximum LG TV Price: 15000\n"
          ]
        }
      ]
    },
    {
      "cell_type": "code",
      "source": [
        "median_sony = product_df[product_df['Company'] == 'SONY']['USD'].median()\n",
        "print(\"Median USD of Sony products:\", median_sony)\n"
      ],
      "metadata": {
        "colab": {
          "base_uri": "https://localhost:8080/"
        },
        "id": "Z-YStEnq6oDV",
        "outputId": "308fbbf8-b219-4f60-ea28-fd6fa317db4b"
      },
      "execution_count": null,
      "outputs": [
        {
          "output_type": "stream",
          "name": "stdout",
          "text": [
            "Median USD of Sony products: 750.0\n"
          ]
        }
      ]
    },
    {
      "cell_type": "code",
      "source": [
        "data = {\n",
        "    'Name': ['Alice', 'Bob', 'Carol', 'Dave', 'Emily'],\n",
        "    'Degree': ['BCA', 'MBA', 'BCA', 'MBA', 'BBA'],\n",
        "    'Marks': [85, 76, None, 65, 80]\n",
        "}\n",
        "\n",
        "df = pd.DataFrame(data)\n",
        "print(df)"
      ],
      "metadata": {
        "colab": {
          "base_uri": "https://localhost:8080/"
        },
        "id": "-0G0zzZA65YC",
        "outputId": "7e72568c-9992-4e7b-e19c-44f4a33d9dde"
      },
      "execution_count": null,
      "outputs": [
        {
          "output_type": "stream",
          "name": "stdout",
          "text": [
            "    Name Degree  Marks\n",
            "0  Alice    BCA   85.0\n",
            "1    Bob    MBA   76.0\n",
            "2  Carol    BCA    NaN\n",
            "3   Dave    MBA   65.0\n",
            "4  Emily    BBA   80.0\n"
          ]
        }
      ]
    },
    {
      "cell_type": "code",
      "source": [
        "print(df.groupby('Degree')['Marks'].max())\n"
      ],
      "metadata": {
        "colab": {
          "base_uri": "https://localhost:8080/"
        },
        "id": "Wijgjzfl7QFf",
        "outputId": "9a5ab28c-0be0-4b27-de19-cf9b81530451"
      },
      "execution_count": null,
      "outputs": [
        {
          "output_type": "stream",
          "name": "stdout",
          "text": [
            "Degree\n",
            "BBA    80.0\n",
            "BCA    85.0\n",
            "MBA    76.0\n",
            "Name: Marks, dtype: float64\n"
          ]
        }
      ]
    },
    {
      "cell_type": "code",
      "source": [
        "df['Marks'].fillna(76, inplace=True)\n"
      ],
      "metadata": {
        "colab": {
          "base_uri": "https://localhost:8080/"
        },
        "id": "TT37TqJ67VhL",
        "outputId": "d983c3c0-f2ec-430f-e681-1e57bb29ec21"
      },
      "execution_count": null,
      "outputs": [
        {
          "output_type": "stream",
          "name": "stderr",
          "text": [
            "/tmp/ipython-input-1472793148.py:1: FutureWarning: A value is trying to be set on a copy of a DataFrame or Series through chained assignment using an inplace method.\n",
            "The behavior will change in pandas 3.0. This inplace method will never work because the intermediate object on which we are setting values always behaves as a copy.\n",
            "\n",
            "For example, when doing 'df[col].method(value, inplace=True)', try using 'df.method({col: value}, inplace=True)' or df[col] = df[col].method(value) instead, to perform the operation inplace on the original object.\n",
            "\n",
            "\n",
            "  df['Marks'].fillna(76, inplace=True)\n"
          ]
        }
      ]
    },
    {
      "cell_type": "code",
      "source": [
        "#df.reset_index(inplace=True)\n",
        "df.set_index('Name', inplace=True)\n"
      ],
      "metadata": {
        "id": "cdETDbFm7Wcu"
      },
      "execution_count": null,
      "outputs": []
    },
    {
      "cell_type": "code",
      "source": [
        "print(df.groupby(['Name', 'Degree'])['Marks'].mean())"
      ],
      "metadata": {
        "colab": {
          "base_uri": "https://localhost:8080/"
        },
        "id": "Bhz-MMZ17ZSi",
        "outputId": "0d13e1a9-dc5f-4105-9bf5-f0249f788f9d"
      },
      "execution_count": null,
      "outputs": [
        {
          "output_type": "stream",
          "name": "stdout",
          "text": [
            "Name   Degree\n",
            "Alice  BCA       85.0\n",
            "Bob    MBA       76.0\n",
            "Carol  BCA       76.0\n",
            "Dave   MBA       65.0\n",
            "Emily  BBA       80.0\n",
            "Name: Marks, dtype: float64\n"
          ]
        }
      ]
    },
    {
      "cell_type": "code",
      "source": [
        "mba_count = (df['Degree'] == 'MBA').sum()\n",
        "print(\"Number of MBA students:\", mba_count)\n"
      ],
      "metadata": {
        "colab": {
          "base_uri": "https://localhost:8080/"
        },
        "id": "3Ji7DfZV7cE2",
        "outputId": "57b68ceb-2051-419a-b515-ff35b9ca5550"
      },
      "execution_count": null,
      "outputs": [
        {
          "output_type": "stream",
          "name": "stdout",
          "text": [
            "Number of MBA students: 2\n"
          ]
        }
      ]
    },
    {
      "cell_type": "code",
      "source": [
        "mode_bca = df[df['Degree'] == 'BCA']['Marks'].mode()\n",
        "print(\"Mode marks for BCA:\", mode_bca.values)\n"
      ],
      "metadata": {
        "colab": {
          "base_uri": "https://localhost:8080/"
        },
        "id": "RpiiZs4A7fPO",
        "outputId": "f71209b4-7212-4dad-baed-fdb2dd55805e"
      },
      "execution_count": null,
      "outputs": [
        {
          "output_type": "stream",
          "name": "stdout",
          "text": [
            "Mode marks for BCA: [76. 85.]\n"
          ]
        }
      ]
    },
    {
      "cell_type": "code",
      "source": [
        "import pandas as pd\n",
        "\n",
        "data = {\n",
        "    2014: [100.5, 150.8, 200.9, 30000, 40000],\n",
        "    2015: [12000, 18000, 22000, 30000, 45000],\n",
        "    2016: [20000, 50000, 70000, 100000, 125000],\n",
        "    2017: [50000, 60000, 70000, 80000, 90000]\n",
        "}\n",
        "\n",
        "salespersons = ['Madhu', 'Kusum', 'Kinshuk', 'Ankit', 'Shruti']\n",
        "\n",
        "sales = pd.DataFrame(data, index=salespersons)\n",
        "print(sales)\n",
        "print(sales.describe())"
      ],
      "metadata": {
        "colab": {
          "base_uri": "https://localhost:8080/"
        },
        "id": "sZ7_EXFBkZd-",
        "outputId": "08f2ffb8-db49-4415-cdc4-ce864c612e9d"
      },
      "execution_count": null,
      "outputs": [
        {
          "output_type": "stream",
          "name": "stdout",
          "text": [
            "            2014   2015    2016   2017\n",
            "Madhu      100.5  12000   20000  50000\n",
            "Kusum      150.8  18000   50000  60000\n",
            "Kinshuk    200.9  22000   70000  70000\n",
            "Ankit    30000.0  30000  100000  80000\n",
            "Shruti   40000.0  45000  125000  90000\n",
            "               2014          2015         2016          2017\n",
            "count      5.000000      5.000000       5.0000      5.000000\n",
            "mean   14090.440000  25400.000000   73000.0000  70000.000000\n",
            "std    19412.436122  12759.310326   41170.3777  15811.388301\n",
            "min      100.500000  12000.000000   20000.0000  50000.000000\n",
            "25%      150.800000  18000.000000   50000.0000  60000.000000\n",
            "50%      200.900000  22000.000000   70000.0000  70000.000000\n",
            "75%    30000.000000  30000.000000  100000.0000  80000.000000\n",
            "max    40000.000000  45000.000000  125000.0000  90000.000000\n"
          ]
        }
      ]
    }
  ]
}